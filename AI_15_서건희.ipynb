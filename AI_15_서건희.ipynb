{
  "nbformat": 4,
  "nbformat_minor": 0,
  "metadata": {
    "colab": {
      "provenance": []
    },
    "kernelspec": {
      "name": "python3",
      "display_name": "Python 3"
    },
    "language_info": {
      "name": "python"
    }
  },
  "cells": [
    {
      "cell_type": "markdown",
      "source": [
        "# 암호화폐(BitCoin)의 가격 예측 모델"
      ],
      "metadata": {
        "id": "ncvk3adDf-Fg"
      }
    },
    {
      "cell_type": "markdown",
      "source": [
        "## 필요 모듈 설치\n",
        "> pyupbit 모듈은 업비트 API를 파이썬에서 쉽게 사용하기 위해서 개발되었다. 따로 API를 호출할 필요가 없어 간편하다. \n",
        "\n",
        "[Github 문서](https://github.com/sharebook-kr/pyupbit)"
      ],
      "metadata": {
        "id": "XJeMqxahkERA"
      }
    },
    {
      "cell_type": "code",
      "execution_count": 21,
      "metadata": {
        "id": "KMzzvcnMk7U5",
        "colab": {
          "base_uri": "https://localhost:8080/"
        },
        "outputId": "2a61abf5-5e91-482d-c478-ce26d37c782b"
      },
      "outputs": [
        {
          "output_type": "stream",
          "name": "stdout",
          "text": [
            "Looking in indexes: https://pypi.org/simple, https://us-python.pkg.dev/colab-wheels/public/simple/\n",
            "Requirement already satisfied: pyupbit in /usr/local/lib/python3.8/dist-packages (0.2.33)\n",
            "Requirement already satisfied: pyjwt>=2.0.0 in /usr/local/lib/python3.8/dist-packages (from pyupbit) (2.6.0)\n",
            "Requirement already satisfied: websockets in /usr/local/lib/python3.8/dist-packages (from pyupbit) (10.4)\n",
            "Requirement already satisfied: pandas in /usr/local/lib/python3.8/dist-packages (from pyupbit) (1.3.5)\n",
            "Requirement already satisfied: requests in /usr/local/lib/python3.8/dist-packages (from pyupbit) (2.23.0)\n",
            "Requirement already satisfied: numpy>=1.17.3 in /usr/local/lib/python3.8/dist-packages (from pandas->pyupbit) (1.21.6)\n",
            "Requirement already satisfied: python-dateutil>=2.7.3 in /usr/local/lib/python3.8/dist-packages (from pandas->pyupbit) (2.8.2)\n",
            "Requirement already satisfied: pytz>=2017.3 in /usr/local/lib/python3.8/dist-packages (from pandas->pyupbit) (2022.6)\n",
            "Requirement already satisfied: six>=1.5 in /usr/local/lib/python3.8/dist-packages (from python-dateutil>=2.7.3->pandas->pyupbit) (1.15.0)\n",
            "Requirement already satisfied: certifi>=2017.4.17 in /usr/local/lib/python3.8/dist-packages (from requests->pyupbit) (2022.9.24)\n",
            "Requirement already satisfied: urllib3!=1.25.0,!=1.25.1,<1.26,>=1.21.1 in /usr/local/lib/python3.8/dist-packages (from requests->pyupbit) (1.24.3)\n",
            "Requirement already satisfied: idna<3,>=2.5 in /usr/local/lib/python3.8/dist-packages (from requests->pyupbit) (2.10)\n",
            "Requirement already satisfied: chardet<4,>=3.0.2 in /usr/local/lib/python3.8/dist-packages (from requests->pyupbit) (3.0.4)\n",
            "Looking in indexes: https://pypi.org/simple, https://us-python.pkg.dev/colab-wheels/public/simple/\n",
            "Requirement already satisfied: keras-tuner in /usr/local/lib/python3.8/dist-packages (1.1.3)\n",
            "Requirement already satisfied: kt-legacy in /usr/local/lib/python3.8/dist-packages (from keras-tuner) (1.0.4)\n",
            "Requirement already satisfied: packaging in /usr/local/lib/python3.8/dist-packages (from keras-tuner) (21.3)\n",
            "Requirement already satisfied: tensorboard in /usr/local/lib/python3.8/dist-packages (from keras-tuner) (2.9.1)\n",
            "Requirement already satisfied: numpy in /usr/local/lib/python3.8/dist-packages (from keras-tuner) (1.21.6)\n",
            "Requirement already satisfied: requests in /usr/local/lib/python3.8/dist-packages (from keras-tuner) (2.23.0)\n",
            "Requirement already satisfied: ipython in /usr/local/lib/python3.8/dist-packages (from keras-tuner) (7.9.0)\n",
            "Requirement already satisfied: pygments in /usr/local/lib/python3.8/dist-packages (from ipython->keras-tuner) (2.6.1)\n",
            "Requirement already satisfied: decorator in /usr/local/lib/python3.8/dist-packages (from ipython->keras-tuner) (4.4.2)\n",
            "Requirement already satisfied: traitlets>=4.2 in /usr/local/lib/python3.8/dist-packages (from ipython->keras-tuner) (5.1.1)\n",
            "Requirement already satisfied: prompt-toolkit<2.1.0,>=2.0.0 in /usr/local/lib/python3.8/dist-packages (from ipython->keras-tuner) (2.0.10)\n",
            "Requirement already satisfied: jedi>=0.10 in /usr/local/lib/python3.8/dist-packages (from ipython->keras-tuner) (0.18.2)\n",
            "Requirement already satisfied: setuptools>=18.5 in /usr/local/lib/python3.8/dist-packages (from ipython->keras-tuner) (57.4.0)\n",
            "Requirement already satisfied: pickleshare in /usr/local/lib/python3.8/dist-packages (from ipython->keras-tuner) (0.7.5)\n",
            "Requirement already satisfied: pexpect in /usr/local/lib/python3.8/dist-packages (from ipython->keras-tuner) (4.8.0)\n",
            "Requirement already satisfied: backcall in /usr/local/lib/python3.8/dist-packages (from ipython->keras-tuner) (0.2.0)\n",
            "Requirement already satisfied: parso<0.9.0,>=0.8.0 in /usr/local/lib/python3.8/dist-packages (from jedi>=0.10->ipython->keras-tuner) (0.8.3)\n",
            "Requirement already satisfied: wcwidth in /usr/local/lib/python3.8/dist-packages (from prompt-toolkit<2.1.0,>=2.0.0->ipython->keras-tuner) (0.2.5)\n",
            "Requirement already satisfied: six>=1.9.0 in /usr/local/lib/python3.8/dist-packages (from prompt-toolkit<2.1.0,>=2.0.0->ipython->keras-tuner) (1.15.0)\n",
            "Requirement already satisfied: pyparsing!=3.0.5,>=2.0.2 in /usr/local/lib/python3.8/dist-packages (from packaging->keras-tuner) (3.0.9)\n",
            "Requirement already satisfied: ptyprocess>=0.5 in /usr/local/lib/python3.8/dist-packages (from pexpect->ipython->keras-tuner) (0.7.0)\n",
            "Requirement already satisfied: certifi>=2017.4.17 in /usr/local/lib/python3.8/dist-packages (from requests->keras-tuner) (2022.9.24)\n",
            "Requirement already satisfied: chardet<4,>=3.0.2 in /usr/local/lib/python3.8/dist-packages (from requests->keras-tuner) (3.0.4)\n",
            "Requirement already satisfied: urllib3!=1.25.0,!=1.25.1,<1.26,>=1.21.1 in /usr/local/lib/python3.8/dist-packages (from requests->keras-tuner) (1.24.3)\n",
            "Requirement already satisfied: idna<3,>=2.5 in /usr/local/lib/python3.8/dist-packages (from requests->keras-tuner) (2.10)\n",
            "Requirement already satisfied: google-auth<3,>=1.6.3 in /usr/local/lib/python3.8/dist-packages (from tensorboard->keras-tuner) (2.14.1)\n",
            "Requirement already satisfied: tensorboard-plugin-wit>=1.6.0 in /usr/local/lib/python3.8/dist-packages (from tensorboard->keras-tuner) (1.8.1)\n",
            "Requirement already satisfied: absl-py>=0.4 in /usr/local/lib/python3.8/dist-packages (from tensorboard->keras-tuner) (1.3.0)\n",
            "Requirement already satisfied: protobuf<3.20,>=3.9.2 in /usr/local/lib/python3.8/dist-packages (from tensorboard->keras-tuner) (3.19.6)\n",
            "Requirement already satisfied: wheel>=0.26 in /usr/local/lib/python3.8/dist-packages (from tensorboard->keras-tuner) (0.38.4)\n",
            "Requirement already satisfied: werkzeug>=1.0.1 in /usr/local/lib/python3.8/dist-packages (from tensorboard->keras-tuner) (1.0.1)\n",
            "Requirement already satisfied: markdown>=2.6.8 in /usr/local/lib/python3.8/dist-packages (from tensorboard->keras-tuner) (3.4.1)\n",
            "Requirement already satisfied: tensorboard-data-server<0.7.0,>=0.6.0 in /usr/local/lib/python3.8/dist-packages (from tensorboard->keras-tuner) (0.6.1)\n",
            "Requirement already satisfied: google-auth-oauthlib<0.5,>=0.4.1 in /usr/local/lib/python3.8/dist-packages (from tensorboard->keras-tuner) (0.4.6)\n",
            "Requirement already satisfied: grpcio>=1.24.3 in /usr/local/lib/python3.8/dist-packages (from tensorboard->keras-tuner) (1.50.0)\n",
            "Requirement already satisfied: cachetools<6.0,>=2.0.0 in /usr/local/lib/python3.8/dist-packages (from google-auth<3,>=1.6.3->tensorboard->keras-tuner) (5.2.0)\n",
            "Requirement already satisfied: rsa<5,>=3.1.4 in /usr/local/lib/python3.8/dist-packages (from google-auth<3,>=1.6.3->tensorboard->keras-tuner) (4.9)\n",
            "Requirement already satisfied: pyasn1-modules>=0.2.1 in /usr/local/lib/python3.8/dist-packages (from google-auth<3,>=1.6.3->tensorboard->keras-tuner) (0.2.8)\n",
            "Requirement already satisfied: requests-oauthlib>=0.7.0 in /usr/local/lib/python3.8/dist-packages (from google-auth-oauthlib<0.5,>=0.4.1->tensorboard->keras-tuner) (1.3.1)\n",
            "Requirement already satisfied: importlib-metadata>=4.4 in /usr/local/lib/python3.8/dist-packages (from markdown>=2.6.8->tensorboard->keras-tuner) (4.13.0)\n",
            "Requirement already satisfied: zipp>=0.5 in /usr/local/lib/python3.8/dist-packages (from importlib-metadata>=4.4->markdown>=2.6.8->tensorboard->keras-tuner) (3.10.0)\n",
            "Requirement already satisfied: pyasn1<0.5.0,>=0.4.6 in /usr/local/lib/python3.8/dist-packages (from pyasn1-modules>=0.2.1->google-auth<3,>=1.6.3->tensorboard->keras-tuner) (0.4.8)\n",
            "Requirement already satisfied: oauthlib>=3.0.0 in /usr/local/lib/python3.8/dist-packages (from requests-oauthlib>=0.7.0->google-auth-oauthlib<0.5,>=0.4.1->tensorboard->keras-tuner) (3.2.2)\n"
          ]
        }
      ],
      "source": [
        "!pip install pyupbit\n",
        "!pip install -U keras-tuner"
      ]
    },
    {
      "cell_type": "code",
      "source": [
        "import pyupbit\n",
        "import matplotlib.pyplot as plt\n",
        "import numpy as np\n",
        "import pandas as pd\n",
        "import tensorflow as tf"
      ],
      "metadata": {
        "id": "E1yAyw24osYT"
      },
      "execution_count": 22,
      "outputs": []
    },
    {
      "cell_type": "code",
      "source": [
        "# 데이터 가져오기\n",
        "df_origin = pyupbit.get_ohlcv(\"KRW-BTC\", \"day\", count=2000, period=1)\n",
        "df_origin"
      ],
      "metadata": {
        "colab": {
          "base_uri": "https://localhost:8080/",
          "height": 424
        },
        "id": "WpIDxLunozsW",
        "outputId": "f16e5b33-ed37-403c-f6f8-8e167ff9b770"
      },
      "execution_count": 23,
      "outputs": [
        {
          "output_type": "execute_result",
          "data": {
            "text/plain": [
              "                           open        high         low       close  \\\n",
              "2017-09-25 09:00:00   4201000.0   4333000.0   4175000.0   4322000.0   \n",
              "2017-09-26 09:00:00   4317000.0   4418000.0   4311000.0   4321000.0   \n",
              "2017-09-27 09:00:00   4322000.0   4677000.0   4318000.0   4657000.0   \n",
              "2017-09-28 09:00:00   4657000.0   4772000.0   4519000.0   4586000.0   \n",
              "2017-09-29 09:00:00   4586000.0   4709000.0   4476000.0   4657000.0   \n",
              "...                         ...         ...         ...         ...   \n",
              "2022-12-01 09:00:00  23209000.0  23400000.0  22871000.0  23002000.0   \n",
              "2022-12-02 09:00:00  23008000.0  23046000.0  22650000.0  22877000.0   \n",
              "2022-12-03 09:00:00  22877000.0  22973000.0  22752000.0  22830000.0   \n",
              "2022-12-04 09:00:00  22821000.0  23021000.0  22755000.0  22906000.0   \n",
              "2022-12-05 09:00:00  22918000.0  23138000.0  22867000.0  23058000.0   \n",
              "\n",
              "                          volume         value  \n",
              "2017-09-25 09:00:00   132.484755  5.602146e+08  \n",
              "2017-09-26 09:00:00    22.788340  9.950724e+07  \n",
              "2017-09-27 09:00:00    32.269662  1.448276e+08  \n",
              "2017-09-28 09:00:00    80.588243  3.721860e+08  \n",
              "2017-09-29 09:00:00    59.352373  2.724558e+08  \n",
              "...                          ...           ...  \n",
              "2022-12-01 09:00:00  3278.515197  7.576107e+10  \n",
              "2022-12-02 09:00:00  2707.549170  6.175598e+10  \n",
              "2022-12-03 09:00:00  1361.730873  3.107119e+10  \n",
              "2022-12-04 09:00:00  1690.073993  3.866140e+10  \n",
              "2022-12-05 09:00:00   560.213696  1.290658e+10  \n",
              "\n",
              "[1898 rows x 6 columns]"
            ],
            "text/html": [
              "\n",
              "  <div id=\"df-6524e17f-07c0-4d91-9463-b81c6ab7221a\">\n",
              "    <div class=\"colab-df-container\">\n",
              "      <div>\n",
              "<style scoped>\n",
              "    .dataframe tbody tr th:only-of-type {\n",
              "        vertical-align: middle;\n",
              "    }\n",
              "\n",
              "    .dataframe tbody tr th {\n",
              "        vertical-align: top;\n",
              "    }\n",
              "\n",
              "    .dataframe thead th {\n",
              "        text-align: right;\n",
              "    }\n",
              "</style>\n",
              "<table border=\"1\" class=\"dataframe\">\n",
              "  <thead>\n",
              "    <tr style=\"text-align: right;\">\n",
              "      <th></th>\n",
              "      <th>open</th>\n",
              "      <th>high</th>\n",
              "      <th>low</th>\n",
              "      <th>close</th>\n",
              "      <th>volume</th>\n",
              "      <th>value</th>\n",
              "    </tr>\n",
              "  </thead>\n",
              "  <tbody>\n",
              "    <tr>\n",
              "      <th>2017-09-25 09:00:00</th>\n",
              "      <td>4201000.0</td>\n",
              "      <td>4333000.0</td>\n",
              "      <td>4175000.0</td>\n",
              "      <td>4322000.0</td>\n",
              "      <td>132.484755</td>\n",
              "      <td>5.602146e+08</td>\n",
              "    </tr>\n",
              "    <tr>\n",
              "      <th>2017-09-26 09:00:00</th>\n",
              "      <td>4317000.0</td>\n",
              "      <td>4418000.0</td>\n",
              "      <td>4311000.0</td>\n",
              "      <td>4321000.0</td>\n",
              "      <td>22.788340</td>\n",
              "      <td>9.950724e+07</td>\n",
              "    </tr>\n",
              "    <tr>\n",
              "      <th>2017-09-27 09:00:00</th>\n",
              "      <td>4322000.0</td>\n",
              "      <td>4677000.0</td>\n",
              "      <td>4318000.0</td>\n",
              "      <td>4657000.0</td>\n",
              "      <td>32.269662</td>\n",
              "      <td>1.448276e+08</td>\n",
              "    </tr>\n",
              "    <tr>\n",
              "      <th>2017-09-28 09:00:00</th>\n",
              "      <td>4657000.0</td>\n",
              "      <td>4772000.0</td>\n",
              "      <td>4519000.0</td>\n",
              "      <td>4586000.0</td>\n",
              "      <td>80.588243</td>\n",
              "      <td>3.721860e+08</td>\n",
              "    </tr>\n",
              "    <tr>\n",
              "      <th>2017-09-29 09:00:00</th>\n",
              "      <td>4586000.0</td>\n",
              "      <td>4709000.0</td>\n",
              "      <td>4476000.0</td>\n",
              "      <td>4657000.0</td>\n",
              "      <td>59.352373</td>\n",
              "      <td>2.724558e+08</td>\n",
              "    </tr>\n",
              "    <tr>\n",
              "      <th>...</th>\n",
              "      <td>...</td>\n",
              "      <td>...</td>\n",
              "      <td>...</td>\n",
              "      <td>...</td>\n",
              "      <td>...</td>\n",
              "      <td>...</td>\n",
              "    </tr>\n",
              "    <tr>\n",
              "      <th>2022-12-01 09:00:00</th>\n",
              "      <td>23209000.0</td>\n",
              "      <td>23400000.0</td>\n",
              "      <td>22871000.0</td>\n",
              "      <td>23002000.0</td>\n",
              "      <td>3278.515197</td>\n",
              "      <td>7.576107e+10</td>\n",
              "    </tr>\n",
              "    <tr>\n",
              "      <th>2022-12-02 09:00:00</th>\n",
              "      <td>23008000.0</td>\n",
              "      <td>23046000.0</td>\n",
              "      <td>22650000.0</td>\n",
              "      <td>22877000.0</td>\n",
              "      <td>2707.549170</td>\n",
              "      <td>6.175598e+10</td>\n",
              "    </tr>\n",
              "    <tr>\n",
              "      <th>2022-12-03 09:00:00</th>\n",
              "      <td>22877000.0</td>\n",
              "      <td>22973000.0</td>\n",
              "      <td>22752000.0</td>\n",
              "      <td>22830000.0</td>\n",
              "      <td>1361.730873</td>\n",
              "      <td>3.107119e+10</td>\n",
              "    </tr>\n",
              "    <tr>\n",
              "      <th>2022-12-04 09:00:00</th>\n",
              "      <td>22821000.0</td>\n",
              "      <td>23021000.0</td>\n",
              "      <td>22755000.0</td>\n",
              "      <td>22906000.0</td>\n",
              "      <td>1690.073993</td>\n",
              "      <td>3.866140e+10</td>\n",
              "    </tr>\n",
              "    <tr>\n",
              "      <th>2022-12-05 09:00:00</th>\n",
              "      <td>22918000.0</td>\n",
              "      <td>23138000.0</td>\n",
              "      <td>22867000.0</td>\n",
              "      <td>23058000.0</td>\n",
              "      <td>560.213696</td>\n",
              "      <td>1.290658e+10</td>\n",
              "    </tr>\n",
              "  </tbody>\n",
              "</table>\n",
              "<p>1898 rows × 6 columns</p>\n",
              "</div>\n",
              "      <button class=\"colab-df-convert\" onclick=\"convertToInteractive('df-6524e17f-07c0-4d91-9463-b81c6ab7221a')\"\n",
              "              title=\"Convert this dataframe to an interactive table.\"\n",
              "              style=\"display:none;\">\n",
              "        \n",
              "  <svg xmlns=\"http://www.w3.org/2000/svg\" height=\"24px\"viewBox=\"0 0 24 24\"\n",
              "       width=\"24px\">\n",
              "    <path d=\"M0 0h24v24H0V0z\" fill=\"none\"/>\n",
              "    <path d=\"M18.56 5.44l.94 2.06.94-2.06 2.06-.94-2.06-.94-.94-2.06-.94 2.06-2.06.94zm-11 1L8.5 8.5l.94-2.06 2.06-.94-2.06-.94L8.5 2.5l-.94 2.06-2.06.94zm10 10l.94 2.06.94-2.06 2.06-.94-2.06-.94-.94-2.06-.94 2.06-2.06.94z\"/><path d=\"M17.41 7.96l-1.37-1.37c-.4-.4-.92-.59-1.43-.59-.52 0-1.04.2-1.43.59L10.3 9.45l-7.72 7.72c-.78.78-.78 2.05 0 2.83L4 21.41c.39.39.9.59 1.41.59.51 0 1.02-.2 1.41-.59l7.78-7.78 2.81-2.81c.8-.78.8-2.07 0-2.86zM5.41 20L4 18.59l7.72-7.72 1.47 1.35L5.41 20z\"/>\n",
              "  </svg>\n",
              "      </button>\n",
              "      \n",
              "  <style>\n",
              "    .colab-df-container {\n",
              "      display:flex;\n",
              "      flex-wrap:wrap;\n",
              "      gap: 12px;\n",
              "    }\n",
              "\n",
              "    .colab-df-convert {\n",
              "      background-color: #E8F0FE;\n",
              "      border: none;\n",
              "      border-radius: 50%;\n",
              "      cursor: pointer;\n",
              "      display: none;\n",
              "      fill: #1967D2;\n",
              "      height: 32px;\n",
              "      padding: 0 0 0 0;\n",
              "      width: 32px;\n",
              "    }\n",
              "\n",
              "    .colab-df-convert:hover {\n",
              "      background-color: #E2EBFA;\n",
              "      box-shadow: 0px 1px 2px rgba(60, 64, 67, 0.3), 0px 1px 3px 1px rgba(60, 64, 67, 0.15);\n",
              "      fill: #174EA6;\n",
              "    }\n",
              "\n",
              "    [theme=dark] .colab-df-convert {\n",
              "      background-color: #3B4455;\n",
              "      fill: #D2E3FC;\n",
              "    }\n",
              "\n",
              "    [theme=dark] .colab-df-convert:hover {\n",
              "      background-color: #434B5C;\n",
              "      box-shadow: 0px 1px 3px 1px rgba(0, 0, 0, 0.15);\n",
              "      filter: drop-shadow(0px 1px 2px rgba(0, 0, 0, 0.3));\n",
              "      fill: #FFFFFF;\n",
              "    }\n",
              "  </style>\n",
              "\n",
              "      <script>\n",
              "        const buttonEl =\n",
              "          document.querySelector('#df-6524e17f-07c0-4d91-9463-b81c6ab7221a button.colab-df-convert');\n",
              "        buttonEl.style.display =\n",
              "          google.colab.kernel.accessAllowed ? 'block' : 'none';\n",
              "\n",
              "        async function convertToInteractive(key) {\n",
              "          const element = document.querySelector('#df-6524e17f-07c0-4d91-9463-b81c6ab7221a');\n",
              "          const dataTable =\n",
              "            await google.colab.kernel.invokeFunction('convertToInteractive',\n",
              "                                                     [key], {});\n",
              "          if (!dataTable) return;\n",
              "\n",
              "          const docLinkHtml = 'Like what you see? Visit the ' +\n",
              "            '<a target=\"_blank\" href=https://colab.research.google.com/notebooks/data_table.ipynb>data table notebook</a>'\n",
              "            + ' to learn more about interactive tables.';\n",
              "          element.innerHTML = '';\n",
              "          dataTable['output_type'] = 'display_data';\n",
              "          await google.colab.output.renderOutput(dataTable, element);\n",
              "          const docLink = document.createElement('div');\n",
              "          docLink.innerHTML = docLinkHtml;\n",
              "          element.appendChild(docLink);\n",
              "        }\n",
              "      </script>\n",
              "    </div>\n",
              "  </div>\n",
              "  "
            ]
          },
          "metadata": {},
          "execution_count": 23
        }
      ]
    },
    {
      "cell_type": "code",
      "source": [
        "df_origin.info()"
      ],
      "metadata": {
        "colab": {
          "base_uri": "https://localhost:8080/"
        },
        "id": "E6I_G5OYzYsJ",
        "outputId": "e7107eec-1a98-4d0b-a555-30dd01e039ad"
      },
      "execution_count": 24,
      "outputs": [
        {
          "output_type": "stream",
          "name": "stdout",
          "text": [
            "<class 'pandas.core.frame.DataFrame'>\n",
            "DatetimeIndex: 1898 entries, 2017-09-25 09:00:00 to 2022-12-05 09:00:00\n",
            "Data columns (total 6 columns):\n",
            " #   Column  Non-Null Count  Dtype  \n",
            "---  ------  --------------  -----  \n",
            " 0   open    1898 non-null   float64\n",
            " 1   high    1898 non-null   float64\n",
            " 2   low     1898 non-null   float64\n",
            " 3   close   1898 non-null   float64\n",
            " 4   volume  1898 non-null   float64\n",
            " 5   value   1898 non-null   float64\n",
            "dtypes: float64(6)\n",
            "memory usage: 103.8 KB\n"
          ]
        }
      ]
    },
    {
      "cell_type": "code",
      "source": [
        "# 시각화\n",
        "plt.figure(figsize=(15,6))\n",
        "\n",
        "plt.title('Bitcoin Price')\n",
        "plt.ylabel('price (won)')\n",
        "plt.xlabel('period (day)')\n",
        "plt.grid()\n",
        "\n",
        "plt.plot(df_origin['close'], label='Close', color='b')\n",
        "plt.legend(loc='best')\n",
        "\n",
        "current_values = plt.gca().get_yticks()\n",
        "plt.gca().set_yticklabels(['{:.0f}'.format(x) for x in current_values]);"
      ],
      "metadata": {
        "colab": {
          "base_uri": "https://localhost:8080/",
          "height": 404
        },
        "id": "fbj_FB0fQY-8",
        "outputId": "38d702ef-fa27-41d0-80d3-4b16e4a72d36"
      },
      "execution_count": 25,
      "outputs": [
        {
          "output_type": "display_data",
          "data": {
            "text/plain": [
              "<Figure size 1080x432 with 1 Axes>"
            ],
            "image/png": "[encoded data removed]"
          },
          "metadata": {
            "needs_background": "light"
          }
        }
      ]
    },
    {
      "cell_type": "code",
      "source": [
        "from sklearn.preprocessing import MinMaxScaler\n",
        "\n",
        "# 원본 복사\n",
        "df = df_origin.copy()\n",
        "\n",
        "# 정규화\n",
        "scaler = MinMaxScaler()\n",
        "scaled_df = scaler.fit_transform(df)\n",
        "scaled_df = pd.DataFrame(scaled_df, columns=df.columns)\n",
        "scaled_df"
      ],
      "metadata": {
        "colab": {
          "base_uri": "https://localhost:8080/",
          "height": 424
        },
        "id": "d-IrLcl-rfLA",
        "outputId": "9b507d2b-d174-4dab-986b-b9dcc01fb5ab"
      },
      "execution_count": 26,
      "outputs": [
        {
          "output_type": "execute_result",
          "data": {
            "text/plain": [
              "          open      high       low     close    volume     value\n",
              "0     0.007470  0.008201  0.008021  0.009038  0.001270  0.000260\n",
              "1     0.008961  0.009277  0.009800  0.009025  0.000191  0.000038\n",
              "2     0.009025  0.012555  0.009892  0.013345  0.000284  0.000059\n",
              "3     0.013332  0.013757  0.012522  0.012432  0.000760  0.000169\n",
              "4     0.012419  0.012960  0.011959  0.013345  0.000551  0.000121\n",
              "...        ...       ...       ...       ...       ...       ...\n",
              "1893  0.251845  0.249510  0.252653  0.249190  0.032211  0.036580\n",
              "1894  0.249261  0.245029  0.249761  0.247583  0.026596  0.029816\n",
              "1895  0.247577  0.244106  0.251096  0.246979  0.013360  0.014996\n",
              "1896  0.246857  0.244713  0.251135  0.247956  0.016589  0.018662\n",
              "1897  0.248104  0.246194  0.252601  0.249910  0.005477  0.006223\n",
              "\n",
              "[1898 rows x 6 columns]"
            ],
            "text/html": [
              "\n",
              "  <div id=\"df-48fbfba5-e570-437a-ae2c-5d32f1680179\">\n",
              "    <div class=\"colab-df-container\">\n",
              "      <div>\n",
              "<style scoped>\n",
              "    .dataframe tbody tr th:only-of-type {\n",
              "        vertical-align: middle;\n",
              "    }\n",
              "\n",
              "    .dataframe tbody tr th {\n",
              "        vertical-align: top;\n",
              "    }\n",
              "\n",
              "    .dataframe thead th {\n",
              "        text-align: right;\n",
              "    }\n",
              "</style>\n",
              "<table border=\"1\" class=\"dataframe\">\n",
              "  <thead>\n",
              "    <tr style=\"text-align: right;\">\n",
              "      <th></th>\n",
              "      <th>open</th>\n",
              "      <th>high</th>\n",
              "      <th>low</th>\n",
              "      <th>close</th>\n",
              "      <th>volume</th>\n",
              "      <th>value</th>\n",
              "    </tr>\n",
              "  </thead>\n",
              "  <tbody>\n",
              "    <tr>\n",
              "      <th>0</th>\n",
              "      <td>0.007470</td>\n",
              "      <td>0.008201</td>\n",
              "      <td>0.008021</td>\n",
              "      <td>0.009038</td>\n",
              "      <td>0.001270</td>\n",
              "      <td>0.000260</td>\n",
              "    </tr>\n",
              "    <tr>\n",
              "      <th>1</th>\n",
              "      <td>0.008961</td>\n",
              "      <td>0.009277</td>\n",
              "      <td>0.009800</td>\n",
              "      <td>0.009025</td>\n",
              "      <td>0.000191</td>\n",
              "      <td>0.000038</td>\n",
              "    </tr>\n",
              "    <tr>\n",
              "      <th>2</th>\n",
              "      <td>0.009025</td>\n",
              "      <td>0.012555</td>\n",
              "      <td>0.009892</td>\n",
              "      <td>0.013345</td>\n",
              "      <td>0.000284</td>\n",
              "      <td>0.000059</td>\n",
              "    </tr>\n",
              "    <tr>\n",
              "      <th>3</th>\n",
              "      <td>0.013332</td>\n",
              "      <td>0.013757</td>\n",
              "      <td>0.012522</td>\n",
              "      <td>0.012432</td>\n",
              "      <td>0.000760</td>\n",
              "      <td>0.000169</td>\n",
              "    </tr>\n",
              "    <tr>\n",
              "      <th>4</th>\n",
              "      <td>0.012419</td>\n",
              "      <td>0.012960</td>\n",
              "      <td>0.011959</td>\n",
              "      <td>0.013345</td>\n",
              "      <td>0.000551</td>\n",
              "      <td>0.000121</td>\n",
              "    </tr>\n",
              "    <tr>\n",
              "      <th>...</th>\n",
              "      <td>...</td>\n",
              "      <td>...</td>\n",
              "      <td>...</td>\n",
              "      <td>...</td>\n",
              "      <td>...</td>\n",
              "      <td>...</td>\n",
              "    </tr>\n",
              "    <tr>\n",
              "      <th>1893</th>\n",
              "      <td>0.251845</td>\n",
              "      <td>0.249510</td>\n",
              "      <td>0.252653</td>\n",
              "      <td>0.249190</td>\n",
              "      <td>0.032211</td>\n",
              "      <td>0.036580</td>\n",
              "    </tr>\n",
              "    <tr>\n",
              "      <th>1894</th>\n",
              "      <td>0.249261</td>\n",
              "      <td>0.245029</td>\n",
              "      <td>0.249761</td>\n",
              "      <td>0.247583</td>\n",
              "      <td>0.026596</td>\n",
              "      <td>0.029816</td>\n",
              "    </tr>\n",
              "    <tr>\n",
              "      <th>1895</th>\n",
              "      <td>0.247577</td>\n",
              "      <td>0.244106</td>\n",
              "      <td>0.251096</td>\n",
              "      <td>0.246979</td>\n",
              "      <td>0.013360</td>\n",
              "      <td>0.014996</td>\n",
              "    </tr>\n",
              "    <tr>\n",
              "      <th>1896</th>\n",
              "      <td>0.246857</td>\n",
              "      <td>0.244713</td>\n",
              "      <td>0.251135</td>\n",
              "      <td>0.247956</td>\n",
              "      <td>0.016589</td>\n",
              "      <td>0.018662</td>\n",
              "    </tr>\n",
              "    <tr>\n",
              "      <th>1897</th>\n",
              "      <td>0.248104</td>\n",
              "      <td>0.246194</td>\n",
              "      <td>0.252601</td>\n",
              "      <td>0.249910</td>\n",
              "      <td>0.005477</td>\n",
              "      <td>0.006223</td>\n",
              "    </tr>\n",
              "  </tbody>\n",
              "</table>\n",
              "<p>1898 rows × 6 columns</p>\n",
              "</div>\n",
              "      <button class=\"colab-df-convert\" onclick=\"convertToInteractive('df-48fbfba5-e570-437a-ae2c-5d32f1680179')\"\n",
              "              title=\"Convert this dataframe to an interactive table.\"\n",
              "              style=\"display:none;\">\n",
              "        \n",
              "  <svg xmlns=\"http://www.w3.org/2000/svg\" height=\"24px\"viewBox=\"0 0 24 24\"\n",
              "       width=\"24px\">\n",
              "    <path d=\"M0 0h24v24H0V0z\" fill=\"none\"/>\n",
              "    <path d=\"M18.56 5.44l.94 2.06.94-2.06 2.06-.94-2.06-.94-.94-2.06-.94 2.06-2.06.94zm-11 1L8.5 8.5l.94-2.06 2.06-.94-2.06-.94L8.5 2.5l-.94 2.06-2.06.94zm10 10l.94 2.06.94-2.06 2.06-.94-2.06-.94-.94-2.06-.94 2.06-2.06.94z\"/><path d=\"M17.41 7.96l-1.37-1.37c-.4-.4-.92-.59-1.43-.59-.52 0-1.04.2-1.43.59L10.3 9.45l-7.72 7.72c-.78.78-.78 2.05 0 2.83L4 21.41c.39.39.9.59 1.41.59.51 0 1.02-.2 1.41-.59l7.78-7.78 2.81-2.81c.8-.78.8-2.07 0-2.86zM5.41 20L4 18.59l7.72-7.72 1.47 1.35L5.41 20z\"/>\n",
              "  </svg>\n",
              "      </button>\n",
              "      \n",
              "  <style>\n",
              "    .colab-df-container {\n",
              "      display:flex;\n",
              "      flex-wrap:wrap;\n",
              "      gap: 12px;\n",
              "    }\n",
              "\n",
              "    .colab-df-convert {\n",
              "      background-color: #E8F0FE;\n",
              "      border: none;\n",
              "      border-radius: 50%;\n",
              "      cursor: pointer;\n",
              "      display: none;\n",
              "      fill: #1967D2;\n",
              "      height: 32px;\n",
              "      padding: 0 0 0 0;\n",
              "      width: 32px;\n",
              "    }\n",
              "\n",
              "    .colab-df-convert:hover {\n",
              "      background-color: #E2EBFA;\n",
              "      box-shadow: 0px 1px 2px rgba(60, 64, 67, 0.3), 0px 1px 3px 1px rgba(60, 64, 67, 0.15);\n",
              "      fill: #174EA6;\n",
              "    }\n",
              "\n",
              "    [theme=dark] .colab-df-convert {\n",
              "      background-color: #3B4455;\n",
              "      fill: #D2E3FC;\n",
              "    }\n",
              "\n",
              "    [theme=dark] .colab-df-convert:hover {\n",
              "      background-color: #434B5C;\n",
              "      box-shadow: 0px 1px 3px 1px rgba(0, 0, 0, 0.15);\n",
              "      filter: drop-shadow(0px 1px 2px rgba(0, 0, 0, 0.3));\n",
              "      fill: #FFFFFF;\n",
              "    }\n",
              "  </style>\n",
              "\n",
              "      <script>\n",
              "        const buttonEl =\n",
              "          document.querySelector('#df-48fbfba5-e570-437a-ae2c-5d32f1680179 button.colab-df-convert');\n",
              "        buttonEl.style.display =\n",
              "          google.colab.kernel.accessAllowed ? 'block' : 'none';\n",
              "\n",
              "        async function convertToInteractive(key) {\n",
              "          const element = document.querySelector('#df-48fbfba5-e570-437a-ae2c-5d32f1680179');\n",
              "          const dataTable =\n",
              "            await google.colab.kernel.invokeFunction('convertToInteractive',\n",
              "                                                     [key], {});\n",
              "          if (!dataTable) return;\n",
              "\n",
              "          const docLinkHtml = 'Like what you see? Visit the ' +\n",
              "            '<a target=\"_blank\" href=https://colab.research.google.com/notebooks/data_table.ipynb>data table notebook</a>'\n",
              "            + ' to learn more about interactive tables.';\n",
              "          element.innerHTML = '';\n",
              "          dataTable['output_type'] = 'display_data';\n",
              "          await google.colab.output.renderOutput(dataTable, element);\n",
              "          const docLink = document.createElement('div');\n",
              "          docLink.innerHTML = docLinkHtml;\n",
              "          element.appendChild(docLink);\n",
              "        }\n",
              "      </script>\n",
              "    </div>\n",
              "  </div>\n",
              "  "
            ]
          },
          "metadata": {},
          "execution_count": 26
        }
      ]
    },
    {
      "cell_type": "code",
      "source": [
        "# 전처리\n",
        "feature = np.array(scaled_df)\n",
        "target = np.array(scaled_df[['close']])\n",
        "print(feature.shape, target.shape)"
      ],
      "metadata": {
        "colab": {
          "base_uri": "https://localhost:8080/"
        },
        "id": "vGV6ArX1UDkB",
        "outputId": "bfd3b684-f474-43fd-e9db-1c926c5c1930"
      },
      "execution_count": 27,
      "outputs": [
        {
          "output_type": "stream",
          "name": "stdout",
          "text": [
            "(1898, 6) (1898, 1)\n"
          ]
        }
      ]
    },
    {
      "cell_type": "code",
      "source": [
        "def make_seqeunce_dataset(feature, target, timesteps):\n",
        "  \"\"\"\n",
        "  timesteps만큼의 길이로 데이터를 추출한다.\n",
        "  예를들어, 일봉차트에서 50일을 추출하여여 51일째의 종가를 예측하는 식이다.\n",
        "  \"\"\"\n",
        "  feature_lst = []\n",
        "  target_lst = []\n",
        "\n",
        "  for idx in range(len(feature)-timesteps):\n",
        "    feature_lst.append(feature[idx:idx+timesteps])\n",
        "    target_lst.append(target[idx+timesteps])\n",
        "\n",
        "  return np.array(feature_lst), np.array(target_lst)"
      ],
      "metadata": {
        "id": "B_aNTCxTYE9H"
      },
      "execution_count": 28,
      "outputs": []
    },
    {
      "cell_type": "code",
      "source": [
        "timesteps = 50\n",
        "\n",
        "X, y = make_seqeunce_dataset(feature, target, timesteps)\n",
        "\n",
        "print(X.shape, y.shape)"
      ],
      "metadata": {
        "colab": {
          "base_uri": "https://localhost:8080/"
        },
        "id": "ETerOjXH5Jj9",
        "outputId": "23baae44-3b02-4a1e-cc16-62b04c095e03"
      },
      "execution_count": 29,
      "outputs": [
        {
          "output_type": "stream",
          "name": "stdout",
          "text": [
            "(1848, 50, 6) (1848, 1)\n"
          ]
        }
      ]
    },
    {
      "cell_type": "code",
      "source": [
        "from sklearn.model_selection import train_test_split\n",
        "\n",
        "# 데이터 분리\n",
        "X_train, X_test, y_train, y_test = train_test_split(X, y, test_size=0.1, shuffle=False, random_state=42)\n",
        "\n",
        "print(X_train.shape, y_train.shape)\n",
        "print(X_test.shape, y_test.shape)"
      ],
      "metadata": {
        "id": "v9j4D3UvKZ8C",
        "colab": {
          "base_uri": "https://localhost:8080/"
        },
        "outputId": "e3a2a74e-8928-48b5-86ef-760db733bb5d"
      },
      "execution_count": 30,
      "outputs": [
        {
          "output_type": "stream",
          "name": "stdout",
          "text": [
            "(1663, 50, 6) (1663, 1)\n",
            "(185, 50, 6) (185, 1)\n"
          ]
        }
      ]
    },
    {
      "cell_type": "code",
      "source": [
        "from tensorflow import keras\n",
        "from keras.models import Sequential\n",
        "from tensorflow.keras.layers import LSTM, Dense, Dropout\n",
        "\n",
        "\n",
        "# 모델 생성 함수\n",
        "def build_model(hp):\n",
        "  model = Sequential()\n",
        "\n",
        "  hp_units = hp.Int('units', min_value=8, max_value=256, step = 8) # 노드 하이퍼 파라미터\n",
        "  model.add(LSTM(units=hp_units, activation='tanh', input_shape=X_train[0].shape))\n",
        "\n",
        "  hp_rates = hp.Float('dropout', min_value=0.05, max_value=0.5, step=0.05)  # Dropout 하이퍼 파라미터\n",
        "  model.add(Dropout(rate=hp_rates))\n",
        "\n",
        "  model.add(Dense(1, activation='linear'))\n",
        "\n",
        "  hp_learning_rate = hp.Choice('learning_rate', values = [1e-2, 1e-3, 1e-4])\n",
        "  model.compile(\n",
        "      optimizer = keras.optimizers.Adam(learning_rate = hp_learning_rate), \n",
        "      loss = 'mse', \n",
        "      metrics = ['mean_absolute_percentage_error']\n",
        "      )\n",
        "\n",
        "  return model"
      ],
      "metadata": {
        "id": "fHx4JBvZuG3O"
      },
      "execution_count": 31,
      "outputs": []
    },
    {
      "cell_type": "code",
      "source": [
        "import kerastuner as kt\n",
        "\n",
        "tuner = kt.Hyperband(\n",
        "    hypermodel = build_model,\n",
        "    objective = 'val_loss',\n",
        "    max_epochs = 10,\n",
        "    directory = 'my_dir',\n",
        "    project_name = 'intro_to_kt'\n",
        ")"
      ],
      "metadata": {
        "id": "sMXR-OP54QVr"
      },
      "execution_count": 32,
      "outputs": []
    },
    {
      "cell_type": "code",
      "source": [
        "import IPython\n",
        "\n",
        "# 콜백함수 지정\n",
        "class ClearTrainingOutput(tf.keras.callbacks.Callback):\n",
        "  def on_train_end(*args, **kwargs):\n",
        "    IPython.display.clear_output(wait = True)"
      ],
      "metadata": {
        "id": "3-5RnfY97ORk"
      },
      "execution_count": 33,
      "outputs": []
    },
    {
      "cell_type": "code",
      "source": [
        "tuner.search(X_train, y_train, epochs = 10, validation_data = (X_test, y_test), callbacks = [ClearTrainingOutput()])\n",
        "\n",
        "best_hps = tuner.get_best_hyperparameters(num_trials = 1)[0]\n",
        "\n",
        "print(f\"\"\"\n",
        "하이퍼 파라미터 검색이 완료되었습니다. \n",
        "최적화된 첫 번째 LSTM 노드 수는 {best_hps.get('units')} 입니다.\n",
        "최적의 Dropout Rate는 {best_hps.get('dropout')} 입니다.\n",
        "최적의 학습 속도는 {best_hps.get('learning_rate')} 입니다.\n",
        "\"\"\")"
      ],
      "metadata": {
        "colab": {
          "base_uri": "https://localhost:8080/"
        },
        "id": "fy8GrtS07tej",
        "outputId": "477f5e10-bd83-4ebf-89db-6ccd79579fe4"
      },
      "execution_count": 34,
      "outputs": [
        {
          "output_type": "stream",
          "name": "stdout",
          "text": [
            "\n",
            "하이퍼 파라미터 검색이 완료되었습니다. \n",
            "최적화된 첫 번째 LSTM 노드 수는 24 입니다.\n",
            "최적의 Dropout Rate는 0.15000000000000002 입니다.\n",
            "최적의 학습 속도는 0.01 입니다.\n",
            "\n"
          ]
        }
      ]
    },
    {
      "cell_type": "code",
      "source": [
        "model = tuner.hypermodel.build(best_hps)\n",
        "\n",
        "model.summary()"
      ],
      "metadata": {
        "colab": {
          "base_uri": "https://localhost:8080/"
        },
        "id": "574UIDbYiTwO",
        "outputId": "92742784-7071-49fe-d7d2-5ad0c4c5914a"
      },
      "execution_count": 35,
      "outputs": [
        {
          "output_type": "stream",
          "name": "stdout",
          "text": [
            "Model: \"sequential_3\"\n",
            "_________________________________________________________________\n",
            " Layer (type)                Output Shape              Param #   \n",
            "=================================================================\n",
            " lstm_3 (LSTM)               (None, 24)                2976      \n",
            "                                                                 \n",
            " dropout_3 (Dropout)         (None, 24)                0         \n",
            "                                                                 \n",
            " dense_3 (Dense)             (None, 1)                 25        \n",
            "                                                                 \n",
            "=================================================================\n",
            "Total params: 3,001\n",
            "Trainable params: 3,001\n",
            "Non-trainable params: 0\n",
            "_________________________________________________________________\n"
          ]
        }
      ]
    },
    {
      "cell_type": "code",
      "source": [
        "from keras.callbacks import EarlyStopping\n",
        "\n",
        "early_stop = EarlyStopping(monitor='val_loss', verbose=1, patience=10)\n",
        "\n",
        "# 최고 성능을 보이는 하이퍼파라미터 조합으로 다시 학습을 진행\n",
        "model.fit(X_train, y_train, batch_size=32, epochs=100, validation_data = (X_test, y_test), callbacks=[early_stop])"
      ],
      "metadata": {
        "colab": {
          "base_uri": "https://localhost:8080/"
        },
        "id": "sYONmy5Dreya",
        "outputId": "fa0d512f-1384-4382-e122-8235c0f054bc"
      },
      "execution_count": 36,
      "outputs": [
        {
          "output_type": "stream",
          "name": "stdout",
          "text": [
            "Epoch 1/100\n",
            "52/52 [==============================] - 6s 78ms/step - loss: 0.0071 - mean_absolute_percentage_error: 10299.4453 - val_loss: 3.2129e-04 - val_mean_absolute_percentage_error: 3.5848\n",
            "Epoch 2/100\n",
            "52/52 [==============================] - 2s 44ms/step - loss: 0.0020 - mean_absolute_percentage_error: 752.3243 - val_loss: 4.6125e-04 - val_mean_absolute_percentage_error: 5.0168\n",
            "Epoch 3/100\n",
            "52/52 [==============================] - 2s 43ms/step - loss: 0.0019 - mean_absolute_percentage_error: 660.4297 - val_loss: 2.6599e-04 - val_mean_absolute_percentage_error: 3.3035\n",
            "Epoch 4/100\n",
            "52/52 [==============================] - 2s 46ms/step - loss: 0.0017 - mean_absolute_percentage_error: 7040.9272 - val_loss: 3.7620e-04 - val_mean_absolute_percentage_error: 4.9545\n",
            "Epoch 5/100\n",
            "52/52 [==============================] - 2s 44ms/step - loss: 0.0015 - mean_absolute_percentage_error: 408.5087 - val_loss: 2.3583e-04 - val_mean_absolute_percentage_error: 3.1505\n",
            "Epoch 6/100\n",
            "52/52 [==============================] - 2s 46ms/step - loss: 0.0014 - mean_absolute_percentage_error: 12676.7637 - val_loss: 3.0915e-04 - val_mean_absolute_percentage_error: 4.3634\n",
            "Epoch 7/100\n",
            "52/52 [==============================] - 2s 43ms/step - loss: 0.0014 - mean_absolute_percentage_error: 7530.8647 - val_loss: 6.8432e-04 - val_mean_absolute_percentage_error: 6.9164\n",
            "Epoch 8/100\n",
            "52/52 [==============================] - 2s 48ms/step - loss: 0.0014 - mean_absolute_percentage_error: 1264.4420 - val_loss: 9.9213e-04 - val_mean_absolute_percentage_error: 8.9086\n",
            "Epoch 9/100\n",
            "52/52 [==============================] - 2s 40ms/step - loss: 0.0012 - mean_absolute_percentage_error: 16189.3330 - val_loss: 3.4122e-04 - val_mean_absolute_percentage_error: 4.4581\n",
            "Epoch 10/100\n",
            "52/52 [==============================] - 2s 48ms/step - loss: 0.0013 - mean_absolute_percentage_error: 13349.4395 - val_loss: 5.4715e-04 - val_mean_absolute_percentage_error: 6.2478\n",
            "Epoch 11/100\n",
            "52/52 [==============================] - 2s 46ms/step - loss: 0.0011 - mean_absolute_percentage_error: 6445.5225 - val_loss: 6.3209e-04 - val_mean_absolute_percentage_error: 6.7987\n",
            "Epoch 12/100\n",
            "52/52 [==============================] - 2s 33ms/step - loss: 0.0013 - mean_absolute_percentage_error: 8449.3389 - val_loss: 2.5241e-04 - val_mean_absolute_percentage_error: 3.5408\n",
            "Epoch 13/100\n",
            "52/52 [==============================] - 1s 24ms/step - loss: 9.3284e-04 - mean_absolute_percentage_error: 3160.1975 - val_loss: 1.8182e-04 - val_mean_absolute_percentage_error: 2.6628\n",
            "Epoch 14/100\n",
            "52/52 [==============================] - 1s 24ms/step - loss: 0.0011 - mean_absolute_percentage_error: 10362.5049 - val_loss: 2.8149e-04 - val_mean_absolute_percentage_error: 3.8088\n",
            "Epoch 15/100\n",
            "52/52 [==============================] - 1s 24ms/step - loss: 0.0012 - mean_absolute_percentage_error: 2604.4868 - val_loss: 2.2828e-04 - val_mean_absolute_percentage_error: 3.3294\n",
            "Epoch 16/100\n",
            "52/52 [==============================] - 1s 24ms/step - loss: 0.0012 - mean_absolute_percentage_error: 14414.8213 - val_loss: 0.0012 - val_mean_absolute_percentage_error: 10.2959\n",
            "Epoch 17/100\n",
            "52/52 [==============================] - 1s 23ms/step - loss: 0.0011 - mean_absolute_percentage_error: 5131.8315 - val_loss: 1.8712e-04 - val_mean_absolute_percentage_error: 2.6479\n",
            "Epoch 18/100\n",
            "52/52 [==============================] - 1s 23ms/step - loss: 0.0011 - mean_absolute_percentage_error: 12132.4150 - val_loss: 7.2601e-04 - val_mean_absolute_percentage_error: 7.6139\n",
            "Epoch 19/100\n",
            "52/52 [==============================] - 1s 25ms/step - loss: 0.0011 - mean_absolute_percentage_error: 8221.6045 - val_loss: 2.3300e-04 - val_mean_absolute_percentage_error: 3.7200\n",
            "Epoch 20/100\n",
            "52/52 [==============================] - 1s 24ms/step - loss: 0.0011 - mean_absolute_percentage_error: 186.5018 - val_loss: 3.1546e-04 - val_mean_absolute_percentage_error: 4.7806\n",
            "Epoch 21/100\n",
            "52/52 [==============================] - 1s 25ms/step - loss: 9.6681e-04 - mean_absolute_percentage_error: 10159.9424 - val_loss: 2.1501e-04 - val_mean_absolute_percentage_error: 3.1412\n",
            "Epoch 22/100\n",
            "52/52 [==============================] - 1s 24ms/step - loss: 9.3025e-04 - mean_absolute_percentage_error: 11583.4443 - val_loss: 1.5462e-04 - val_mean_absolute_percentage_error: 2.4301\n",
            "Epoch 23/100\n",
            "52/52 [==============================] - 1s 23ms/step - loss: 0.0010 - mean_absolute_percentage_error: 6335.6318 - val_loss: 3.7631e-04 - val_mean_absolute_percentage_error: 4.8785\n",
            "Epoch 24/100\n",
            "52/52 [==============================] - 1s 23ms/step - loss: 9.5137e-04 - mean_absolute_percentage_error: 14958.7695 - val_loss: 1.6269e-04 - val_mean_absolute_percentage_error: 2.5534\n",
            "Epoch 25/100\n",
            "52/52 [==============================] - 1s 23ms/step - loss: 0.0010 - mean_absolute_percentage_error: 5565.5923 - val_loss: 3.6963e-04 - val_mean_absolute_percentage_error: 4.9184\n",
            "Epoch 26/100\n",
            "52/52 [==============================] - 1s 23ms/step - loss: 0.0010 - mean_absolute_percentage_error: 18452.4199 - val_loss: 2.6293e-04 - val_mean_absolute_percentage_error: 3.9239\n",
            "Epoch 27/100\n",
            "52/52 [==============================] - 1s 23ms/step - loss: 0.0011 - mean_absolute_percentage_error: 20169.2109 - val_loss: 1.5192e-04 - val_mean_absolute_percentage_error: 2.4382\n",
            "Epoch 28/100\n",
            "52/52 [==============================] - 1s 23ms/step - loss: 9.4504e-04 - mean_absolute_percentage_error: 5090.4580 - val_loss: 1.5493e-04 - val_mean_absolute_percentage_error: 2.5745\n",
            "Epoch 29/100\n",
            "52/52 [==============================] - 1s 23ms/step - loss: 9.6788e-04 - mean_absolute_percentage_error: 25564.6934 - val_loss: 3.2327e-04 - val_mean_absolute_percentage_error: 4.4176\n",
            "Epoch 30/100\n",
            "52/52 [==============================] - 1s 24ms/step - loss: 9.2391e-04 - mean_absolute_percentage_error: 12318.0918 - val_loss: 3.6684e-04 - val_mean_absolute_percentage_error: 4.9382\n",
            "Epoch 31/100\n",
            "52/52 [==============================] - 1s 24ms/step - loss: 9.1635e-04 - mean_absolute_percentage_error: 6119.6836 - val_loss: 1.7733e-04 - val_mean_absolute_percentage_error: 3.1573\n",
            "Epoch 32/100\n",
            "52/52 [==============================] - 1s 24ms/step - loss: 9.4151e-04 - mean_absolute_percentage_error: 18870.7461 - val_loss: 6.1959e-04 - val_mean_absolute_percentage_error: 7.0766\n",
            "Epoch 33/100\n",
            "52/52 [==============================] - 1s 24ms/step - loss: 8.9501e-04 - mean_absolute_percentage_error: 6015.7188 - val_loss: 1.9763e-04 - val_mean_absolute_percentage_error: 3.1262\n",
            "Epoch 34/100\n",
            "52/52 [==============================] - 1s 23ms/step - loss: 7.9626e-04 - mean_absolute_percentage_error: 18818.4238 - val_loss: 3.0238e-04 - val_mean_absolute_percentage_error: 4.4007\n",
            "Epoch 35/100\n",
            "52/52 [==============================] - 1s 24ms/step - loss: 8.7649e-04 - mean_absolute_percentage_error: 1392.3044 - val_loss: 1.3964e-04 - val_mean_absolute_percentage_error: 2.3357\n",
            "Epoch 36/100\n",
            "52/52 [==============================] - 1s 24ms/step - loss: 0.0011 - mean_absolute_percentage_error: 14291.0557 - val_loss: 1.8433e-04 - val_mean_absolute_percentage_error: 2.8203\n",
            "Epoch 37/100\n",
            "52/52 [==============================] - 1s 24ms/step - loss: 9.8765e-04 - mean_absolute_percentage_error: 19796.7363 - val_loss: 2.9543e-04 - val_mean_absolute_percentage_error: 4.3761\n",
            "Epoch 38/100\n",
            "52/52 [==============================] - 1s 24ms/step - loss: 9.1313e-04 - mean_absolute_percentage_error: 24852.2773 - val_loss: 1.3564e-04 - val_mean_absolute_percentage_error: 2.3471\n",
            "Epoch 39/100\n",
            "52/52 [==============================] - 1s 24ms/step - loss: 9.6562e-04 - mean_absolute_percentage_error: 2725.4878 - val_loss: 1.3120e-04 - val_mean_absolute_percentage_error: 2.2663\n",
            "Epoch 40/100\n",
            "52/52 [==============================] - 1s 24ms/step - loss: 9.8182e-04 - mean_absolute_percentage_error: 5124.0894 - val_loss: 1.4508e-04 - val_mean_absolute_percentage_error: 2.3269\n",
            "Epoch 41/100\n",
            "52/52 [==============================] - 1s 23ms/step - loss: 9.7890e-04 - mean_absolute_percentage_error: 16137.4648 - val_loss: 1.3849e-04 - val_mean_absolute_percentage_error: 2.3126\n",
            "Epoch 42/100\n",
            "52/52 [==============================] - 1s 24ms/step - loss: 9.5809e-04 - mean_absolute_percentage_error: 7160.6553 - val_loss: 4.9940e-04 - val_mean_absolute_percentage_error: 6.1347\n",
            "Epoch 43/100\n",
            "52/52 [==============================] - 1s 24ms/step - loss: 0.0011 - mean_absolute_percentage_error: 8396.5713 - val_loss: 1.3301e-04 - val_mean_absolute_percentage_error: 2.3726\n",
            "Epoch 44/100\n",
            "52/52 [==============================] - 1s 24ms/step - loss: 0.0010 - mean_absolute_percentage_error: 1787.1962 - val_loss: 3.1944e-04 - val_mean_absolute_percentage_error: 4.4762\n",
            "Epoch 45/100\n",
            "52/52 [==============================] - 1s 24ms/step - loss: 8.9922e-04 - mean_absolute_percentage_error: 9990.5098 - val_loss: 2.5017e-04 - val_mean_absolute_percentage_error: 3.8991\n",
            "Epoch 46/100\n",
            "52/52 [==============================] - 1s 23ms/step - loss: 9.4422e-04 - mean_absolute_percentage_error: 16325.7021 - val_loss: 1.2897e-04 - val_mean_absolute_percentage_error: 2.2761\n",
            "Epoch 47/100\n",
            "52/52 [==============================] - 1s 24ms/step - loss: 9.3200e-04 - mean_absolute_percentage_error: 9581.3730 - val_loss: 1.3118e-04 - val_mean_absolute_percentage_error: 2.2588\n",
            "Epoch 48/100\n",
            "52/52 [==============================] - 1s 24ms/step - loss: 8.7870e-04 - mean_absolute_percentage_error: 26798.0664 - val_loss: 3.5213e-04 - val_mean_absolute_percentage_error: 5.0061\n",
            "Epoch 49/100\n",
            "52/52 [==============================] - 1s 24ms/step - loss: 0.0010 - mean_absolute_percentage_error: 6478.6587 - val_loss: 1.3338e-04 - val_mean_absolute_percentage_error: 2.2953\n",
            "Epoch 50/100\n",
            "52/52 [==============================] - 1s 24ms/step - loss: 9.0595e-04 - mean_absolute_percentage_error: 19192.0957 - val_loss: 1.7108e-04 - val_mean_absolute_percentage_error: 3.1235\n",
            "Epoch 51/100\n",
            "52/52 [==============================] - 1s 23ms/step - loss: 9.0998e-04 - mean_absolute_percentage_error: 6280.1797 - val_loss: 1.6578e-04 - val_mean_absolute_percentage_error: 2.7577\n",
            "Epoch 52/100\n",
            "52/52 [==============================] - 1s 24ms/step - loss: 8.8519e-04 - mean_absolute_percentage_error: 12617.4766 - val_loss: 2.1364e-04 - val_mean_absolute_percentage_error: 3.5113\n",
            "Epoch 53/100\n",
            "52/52 [==============================] - 1s 23ms/step - loss: 9.7677e-04 - mean_absolute_percentage_error: 3487.2561 - val_loss: 1.3603e-04 - val_mean_absolute_percentage_error: 2.4360\n",
            "Epoch 54/100\n",
            "52/52 [==============================] - 1s 23ms/step - loss: 9.0033e-04 - mean_absolute_percentage_error: 19233.8008 - val_loss: 1.8578e-04 - val_mean_absolute_percentage_error: 3.4181\n",
            "Epoch 55/100\n",
            "52/52 [==============================] - 1s 24ms/step - loss: 9.1369e-04 - mean_absolute_percentage_error: 21030.7559 - val_loss: 1.4076e-04 - val_mean_absolute_percentage_error: 2.5652\n",
            "Epoch 56/100\n",
            "52/52 [==============================] - 1s 24ms/step - loss: 9.4780e-04 - mean_absolute_percentage_error: 173.5227 - val_loss: 1.4573e-04 - val_mean_absolute_percentage_error: 2.4090\n",
            "Epoch 56: early stopping\n"
          ]
        },
        {
          "output_type": "execute_result",
          "data": {
            "text/plain": [
              "<keras.callbacks.History at 0x7ff0976e9be0>"
            ]
          },
          "metadata": {},
          "execution_count": 36
        }
      ]
    },
    {
      "cell_type": "code",
      "source": [
        "# 예측 데이터\n",
        "y_pred = model.predict(X_test)\n",
        "\n",
        "# 정규화 전 데이터로 복구\n",
        "y_test_back = y_test * (df['close'].max()-df['close'].min()) + df['close'].min()\n",
        "y_pred_back = y_pred * (df['close'].max()-df['close'].min()) + df['close'].min()\n",
        "\n",
        "y_test_back_df = pd.DataFrame(y_test_back, columns=['close'], index=df.index[-y_test.shape[0]:])\n",
        "y_pred_back_df = pd.DataFrame(y_pred_back, columns=['close'], index=df.index[-y_test.shape[0]:])"
      ],
      "metadata": {
        "colab": {
          "base_uri": "https://localhost:8080/"
        },
        "id": "f5ntsBIZEuFK",
        "outputId": "c7c77c75-cf4f-40ef-a123-8652bc60a011"
      },
      "execution_count": 37,
      "outputs": [
        {
          "output_type": "stream",
          "name": "stdout",
          "text": [
            "6/6 [==============================] - 1s 8ms/step\n"
          ]
        }
      ]
    },
    {
      "cell_type": "code",
      "source": [
        "pred = model.predict(X_test)\n",
        "\n",
        "plt.figure(figsize=(15,6))\n",
        "plt.xlabel('Period')\n",
        "plt.ylabel('Price')\n",
        "plt.plot(y_test_back_df, label='Actual')\n",
        "plt.plot(y_pred_back_df, label='Prediction')\n",
        "plt.grid()\n",
        "plt.legend(loc='best')\n",
        "\n",
        "current_values = plt.gca().get_yticks()\n",
        "plt.gca().set_yticklabels(['{:,.0f}'.format(x) for x in current_values]);"
      ],
      "metadata": {
        "colab": {
          "base_uri": "https://localhost:8080/",
          "height": 406
        },
        "id": "oWdnyZ6EPxx1",
        "outputId": "c44d8db5-5a9b-4b7f-90d4-cdf0096ee294"
      },
      "execution_count": 39,
      "outputs": [
        {
          "output_type": "stream",
          "name": "stdout",
          "text": [
            "6/6 [==============================] - 0s 16ms/step\n"
          ]
        },
        {
          "output_type": "display_data",
          "data": {
            "text/plain": [
              "<Figure size 1080x432 with 1 Axes>"
            ],
            "image/png": "[encoded data removed]"
          },
          "metadata": {
            "needs_background": "light"
          }
        }
      ]
    }
  ]
}